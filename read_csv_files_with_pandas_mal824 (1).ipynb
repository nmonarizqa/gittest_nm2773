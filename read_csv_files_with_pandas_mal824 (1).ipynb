{
 "cells": [
  {
   "cell_type": "code",
   "execution_count": 1,
   "metadata": {
    "collapsed": false
   },
   "outputs": [
    {
     "name": "stderr",
     "output_type": "stream",
     "text": [
      "/opt/rh/anaconda/root/envs/PUI2016_Python3/lib/python3.5/site-packages/matplotlib/font_manager.py:273: UserWarning: Matplotlib is building the font cache using fc-list. This may take a moment.\n",
      "  warnings.warn('Matplotlib is building the font cache using fc-list. This may take a moment.')\n",
      "/opt/rh/anaconda/root/envs/PUI2016_Python3/lib/python3.5/site-packages/matplotlib/font_manager.py:273: UserWarning: Matplotlib is building the font cache using fc-list. This may take a moment.\n",
      "  warnings.warn('Matplotlib is building the font cache using fc-list. This may take a moment.')\n"
     ]
    }
   ],
   "source": [
    "import pandas as pd\n",
    "import os\n",
    "import matplotlib.pyplot as plt\n",
    "%matplotlib inline\n",
    "import matplotlib.colors as colors"
   ]
  },
  {
   "cell_type": "code",
   "execution_count": 25,
   "metadata": {
    "collapsed": true
   },
   "outputs": [],
   "source": [
    "file_location = os.getenv(\"DFDATA\")+\"/5b3a-rs48/1414245944/5b3a-rs48\""
   ]
  },
  {
   "cell_type": "code",
   "execution_count": 88,
   "metadata": {
    "collapsed": false
   },
   "outputs": [],
   "source": [
    "dataframe = pd.read_csv(file_location, na_values=\" NaN\")\n",
    "dataframe = dataframe.dropna(axis=0)\n",
    "\n",
    "#Source for above code to drop values with missing data was taken from: http://pandas.pydata.org/pandas-docs/version/0.15.2/missing_data.html\""
   ]
  },
  {
   "cell_type": "code",
   "execution_count": 89,
   "metadata": {
    "collapsed": false,
    "scrolled": true
   },
   "outputs": [
    {
     "data": {
      "text/html": [
       "<div>\n",
       "<table border=\"1\" class=\"dataframe\">\n",
       "  <thead>\n",
       "    <tr style=\"text-align: right;\">\n",
       "      <th></th>\n",
       "      <th>Agency</th>\n",
       "      <th>Platform</th>\n",
       "      <th>Url</th>\n",
       "      <th>Date Sampled</th>\n",
       "      <th>Likes/Followers/Visits/Downloads</th>\n",
       "    </tr>\n",
       "  </thead>\n",
       "  <tbody>\n",
       "    <tr>\n",
       "      <th>1</th>\n",
       "      <td>TLC</td>\n",
       "      <td>Facebook</td>\n",
       "      <td>http://www.facebook.com/pages/NYC-Taxi-and-Lim...</td>\n",
       "      <td>12/12/2012 12:00:00 AM</td>\n",
       "      <td>505.0</td>\n",
       "    </tr>\n",
       "    <tr>\n",
       "      <th>6</th>\n",
       "      <td>MOAE</td>\n",
       "      <td>YouTube</td>\n",
       "      <td>http://www.youtube.com/YouCanTooNYC</td>\n",
       "      <td>12/12/2012 12:00:00 AM</td>\n",
       "      <td>3.0</td>\n",
       "    </tr>\n",
       "    <tr>\n",
       "      <th>9</th>\n",
       "      <td>DSNY</td>\n",
       "      <td>YouTube</td>\n",
       "      <td>http://www.youtube.com/nycrecyclemore</td>\n",
       "      <td>12/12/2012 12:00:00 AM</td>\n",
       "      <td>1.0</td>\n",
       "    </tr>\n",
       "    <tr>\n",
       "      <th>10</th>\n",
       "      <td>DOH</td>\n",
       "      <td>Youtube</td>\n",
       "      <td>http://www.youtube.com/user/drinkingsugar</td>\n",
       "      <td>12/12/2012 12:00:00 AM</td>\n",
       "      <td>143.0</td>\n",
       "    </tr>\n",
       "    <tr>\n",
       "      <th>15</th>\n",
       "      <td>MOME</td>\n",
       "      <td>Android</td>\n",
       "      <td>MiNY Venor app</td>\n",
       "      <td>12/12/2012 12:00:00 AM</td>\n",
       "      <td>343.0</td>\n",
       "    </tr>\n",
       "  </tbody>\n",
       "</table>\n",
       "</div>"
      ],
      "text/plain": [
       "   Agency  Platform                                                Url  \\\n",
       "1     TLC  Facebook  http://www.facebook.com/pages/NYC-Taxi-and-Lim...   \n",
       "6    MOAE   YouTube                http://www.youtube.com/YouCanTooNYC   \n",
       "9    DSNY   YouTube              http://www.youtube.com/nycrecyclemore   \n",
       "10    DOH   Youtube          http://www.youtube.com/user/drinkingsugar   \n",
       "15   MOME   Android                                     MiNY Venor app   \n",
       "\n",
       "              Date Sampled  Likes/Followers/Visits/Downloads  \n",
       "1   12/12/2012 12:00:00 AM                             505.0  \n",
       "6   12/12/2012 12:00:00 AM                               3.0  \n",
       "9   12/12/2012 12:00:00 AM                               1.0  \n",
       "10  12/12/2012 12:00:00 AM                             143.0  \n",
       "15  12/12/2012 12:00:00 AM                             343.0  "
      ]
     },
     "execution_count": 89,
     "metadata": {},
     "output_type": "execute_result"
    }
   ],
   "source": [
    "first_five_rows= dataframe.head(5)\n",
    "first_five_rows\n"
   ]
  },
  {
   "cell_type": "code",
   "execution_count": 90,
   "metadata": {
    "collapsed": false
   },
   "outputs": [],
   "source": [
    "datafe = dataframe.drop(dataframe.columns[[0,1,2]], axis=1)\n",
    "# assigned a new variable to the dataframe\n",
    "#source for code: http://stackoverflow.com/questions/13411544/delete-column-from-pandas-dataframe"
   ]
  },
  {
   "cell_type": "code",
   "execution_count": 104,
   "metadata": {
    "collapsed": false
   },
   "outputs": [
    {
     "data": {
      "text/html": [
       "<div>\n",
       "<table border=\"1\" class=\"dataframe\">\n",
       "  <thead>\n",
       "    <tr style=\"text-align: right;\">\n",
       "      <th></th>\n",
       "      <th>Date Sampled</th>\n",
       "      <th>Likes/Followers/Visits/Downloads</th>\n",
       "    </tr>\n",
       "  </thead>\n",
       "  <tbody>\n",
       "    <tr>\n",
       "      <th>1</th>\n",
       "      <td>12/12/2012 12:00:00 AM</td>\n",
       "      <td>505.0</td>\n",
       "    </tr>\n",
       "    <tr>\n",
       "      <th>6</th>\n",
       "      <td>12/12/2012 12:00:00 AM</td>\n",
       "      <td>3.0</td>\n",
       "    </tr>\n",
       "    <tr>\n",
       "      <th>9</th>\n",
       "      <td>12/12/2012 12:00:00 AM</td>\n",
       "      <td>1.0</td>\n",
       "    </tr>\n",
       "    <tr>\n",
       "      <th>10</th>\n",
       "      <td>12/12/2012 12:00:00 AM</td>\n",
       "      <td>143.0</td>\n",
       "    </tr>\n",
       "    <tr>\n",
       "      <th>15</th>\n",
       "      <td>12/12/2012 12:00:00 AM</td>\n",
       "      <td>343.0</td>\n",
       "    </tr>\n",
       "  </tbody>\n",
       "</table>\n",
       "</div>"
      ],
      "text/plain": [
       "              Date Sampled  Likes/Followers/Visits/Downloads\n",
       "1   12/12/2012 12:00:00 AM                             505.0\n",
       "6   12/12/2012 12:00:00 AM                               3.0\n",
       "9   12/12/2012 12:00:00 AM                               1.0\n",
       "10  12/12/2012 12:00:00 AM                             143.0\n",
       "15  12/12/2012 12:00:00 AM                             343.0"
      ]
     },
     "execution_count": 104,
     "metadata": {},
     "output_type": "execute_result"
    }
   ],
   "source": [
    "first_five_rows= datafe.head(100)\n",
    "first_five_rows.head()"
   ]
  },
  {
   "cell_type": "code",
   "execution_count": 106,
   "metadata": {
    "collapsed": false
   },
   "outputs": [
    {
     "data": {
      "text/plain": [
       "<function matplotlib.pyplot.show>"
      ]
     },
     "execution_count": 106,
     "metadata": {},
     "output_type": "execute_result"
    },
    {
     "data": {
      "image/png": "[encoded data removed]",
      "text/plain": [
       "<matplotlib.figure.Figure at 0x7f43b21ac4e0>"
      ]
     },
     "metadata": {},
     "output_type": "display_data"
    }
   ],
   "source": [
    "plt.plot_date(x=pd.to_datetime(first_five_rows[\"Date Sampled\"]),y=first_five_rows[\"Likes/Followers/Visits/Downloads\"])\n",
    "plt.title('Social_Media_Hits_by_Date', fontsize =10)\n",
    "plt.ylabel('Number_of_Likes_Followers_Visits_Downloads', fontsize =5)\n",
    "plt.xlabel('Date_Sampled',fontsize =5)\n",
    "plt.show\n",
    "\n",
    "#source for this code was reference from here: http://www.scipy-lectures.org/intro/matplotlib/matplotlib.html#scatter-plots"
   ]
  },
  {
   "cell_type": "code",
   "execution_count": null,
   "metadata": {
    "collapsed": true
   },
   "outputs": [],
   "source": []
  }
 ],
 "metadata": {
  "kernelspec": {
   "display_name": "Python [Root]",
   "language": "python",
   "name": "Python [Root]"
  },
  "language_info": {
   "codemirror_mode": {
    "name": "ipython",
    "version": 2
   },
   "file_extension": ".py",
   "mimetype": "text/x-python",
   "name": "python",
   "nbconvert_exporter": "python",
   "pygments_lexer": "ipython2",
   "version": "2.7.12"
  }
 },
 "nbformat": 4,
 "nbformat_minor": 0
}
